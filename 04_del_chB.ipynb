{
 "cells": [
  {
   "cell_type": "markdown",
   "metadata": {},
   "source": [
    "# Make apo version for enzdes"
   ]
  },
  {
   "cell_type": "markdown",
   "metadata": {},
   "source": [
    "### Boilerplate"
   ]
  },
  {
   "cell_type": "code",
   "execution_count": 1,
   "metadata": {},
   "outputs": [
    {
     "name": "stdout",
     "output_type": "stream",
     "text": [
      "/mnt/home/pleung/projects/bistable_bundle/r4/helix_binders\n",
      "dig75\n"
     ]
    }
   ],
   "source": [
    "%load_ext lab_black\n",
    "# python internal\n",
    "import collections\n",
    "import copy\n",
    "import gc\n",
    "from glob import glob\n",
    "import h5py\n",
    "import itertools\n",
    "import os\n",
    "import random\n",
    "import re\n",
    "import socket\n",
    "import shutil\n",
    "import subprocess\n",
    "import sys\n",
    "\n",
    "# conda/pip\n",
    "import dask\n",
    "import graphviz\n",
    "import matplotlib.pyplot as plt\n",
    "import pandas as pd\n",
    "import numpy as np\n",
    "import scipy\n",
    "import seaborn as sns\n",
    "from tqdm import tqdm\n",
    "\n",
    "# special packages on the DIGS\n",
    "import py3Dmol\n",
    "import pymol\n",
    "import pyrosetta\n",
    "\n",
    "# notebook magic\n",
    "%matplotlib inline\n",
    "%load_ext autoreload\n",
    "%autoreload 2\n",
    "\n",
    "print(os.getcwd())\n",
    "print(socket.gethostname())"
   ]
  },
  {
   "cell_type": "markdown",
   "metadata": {},
   "source": [
    "### Make function to delete chB"
   ]
  },
  {
   "cell_type": "code",
   "execution_count": 2,
   "metadata": {},
   "outputs": [],
   "source": [
    "from pyrosetta.distributed.packed_pose.core import PackedPose\n",
    "from pyrosetta.distributed import requires_init\n",
    "from typing import *\n",
    "\n",
    "\n",
    "@requires_init\n",
    "def del_chB(packed_pose_in=None, **kwargs) -> PackedPose:\n",
    "    \"\"\"\"\"\"\n",
    "    import bz2\n",
    "    import pyrosetta\n",
    "    import pyrosetta.distributed.io as io\n",
    "    from pyrosetta.distributed.tasks.rosetta_scripts import (\n",
    "        SingleoutputRosettaScriptsTask,\n",
    "    )\n",
    "\n",
    "    if packed_pose_in == None:\n",
    "        file = kwargs[\"-s\"]\n",
    "        with open(file, \"rb\") as f:\n",
    "            packed_pose_in = io.pose_from_pdbstring(bz2.decompress(f.read()).decode())\n",
    "        scores = pyrosetta.distributed.cluster.get_scores_dict(file)[\"scores\"]\n",
    "    else:\n",
    "        raise RuntimeError(\"Need to supply an input\")\n",
    "\n",
    "    xml = \"\"\"\n",
    "    <ROSETTASCRIPTS>\n",
    "        <SCOREFXNS>\n",
    "        </SCOREFXNS>\n",
    "        <RESIDUE_SELECTORS>\n",
    "        </RESIDUE_SELECTORS>\n",
    "        <TASKOPERATIONS>\n",
    "        </TASKOPERATIONS>\n",
    "        <MOVERS>\n",
    "            <SwitchChainOrder name=\"delete\" chain_order=\"1\"/>\n",
    "        </MOVERS>\n",
    "        <PROTOCOLS>\n",
    "            <Add mover=\"delete\"/>\n",
    "        </PROTOCOLS>\n",
    "    </ROSETTASCRIPTS>\n",
    "    \"\"\"\n",
    "    delete = SingleoutputRosettaScriptsTask(xml)\n",
    "    chain1 = delete(packed_pose_in.pose.clone())\n",
    "    pose = io.to_pose(chain1)\n",
    "    for key, value in scores.items():\n",
    "        pyrosetta.rosetta.core.pose.setPoseExtraScore(pose, key, value)\n",
    "    final_ppose = io.to_packed(pose)\n",
    "    return final_ppose"
   ]
  },
  {
   "cell_type": "markdown",
   "metadata": {},
   "source": [
    "### Setup dask, set command line options, make tasks and submit to client"
   ]
  },
  {
   "cell_type": "code",
   "execution_count": 4,
   "metadata": {
    "scrolled": true
   },
   "outputs": [
    {
     "name": "stdout",
     "output_type": "stream",
     "text": [
      "run the following from your local terminal:\n",
      "ssh -L 8000:localhost:8787 pleung@dig75\n",
      "#!/usr/bin/env bash\n",
      "\n",
      "#SBATCH -J dask-worker\n",
      "#SBATCH -e /mnt/home/pleung/logs/slurm_logs/dask-worker-%J.err\n",
      "#SBATCH -o /mnt/home/pleung/logs/slurm_logs/dask-worker-%J.out\n",
      "#SBATCH -p long\n",
      "#SBATCH -n 1\n",
      "#SBATCH --cpus-per-task=1\n",
      "#SBATCH --mem=15G\n",
      "#SBATCH -t 23:30:00\n",
      "\n",
      "JOB_ID=${SLURM_JOB_ID%;*}\n",
      "\n",
      "/home/pleung/.conda/envs/phil/bin/python -m distributed.cli.dask_worker tcp://172.16.131.105:38077 --nthreads 1 --memory-limit 14.90GiB --name name --nanny --death-timeout 120 --local-directory $TMPDIR/dask --lifetime 23h --lifetime-stagger 4m\n",
      "\n",
      "<Client: 'tcp://172.16.131.105:38077' processes=0 threads=0, memory=0 B>\n"
     ]
    },
    {
     "name": "stderr",
     "output_type": "stream",
     "text": [
      "INFO:pyrosetta.distributed:maybe_init performing pyrosetta initialization: {'options': '-run:constant_seed 1 -multithreading:total_threads 1', 'extra_options': '-mute all', 'set_logging_handler': 'interactive', 'silent': True}\n",
      "INFO:pyrosetta.rosetta:Found rosetta database at: /home/pleung/.conda/envs/phil/lib/python3.8/site-packages/pyrosetta/database; using it....\n",
      "INFO:pyrosetta.rosetta:PyRosetta-4 2021 [Rosetta PyRosetta4.conda.linux.cxx11thread.serialization.CentOS.python38.Release 2021.27+release.7ce64884a77d606b7b667c363527acc846541030 2021-07-09T18:10:05] retrieved from: http://www.pyrosetta.org\n",
      "(C) Copyright Rosetta Commons Member Institutions. Created in JHU by Sergey Lyskov and PyRosetta Team.\n",
      "distributed.core - ERROR - Exception while handling op heartbeat_worker\n",
      "Traceback (most recent call last):\n",
      "  File \"/home/pleung/.conda/envs/phil/lib/python3.8/site-packages/distributed/core.py\", line 497, in handle_comm\n",
      "    result = handler(comm, **msg)\n",
      "  File \"/home/pleung/.conda/envs/phil/lib/python3.8/site-packages/distributed/scheduler.py\", line 3647, in heartbeat_worker\n",
      "    ws._executing = {\n",
      "  File \"/home/pleung/.conda/envs/phil/lib/python3.8/site-packages/distributed/scheduler.py\", line 3648, in <dictcomp>\n",
      "    parent._tasks[key]: duration for key, duration in executing.items()\n",
      "KeyError: 'user_spawn_thread-115dd36c-d8b8-4f22-aba6-817c2fd34bbc'\n",
      "tornado.application - ERROR - Exception in callback functools.partial(<bound method IOLoop._discard_future_result of <zmq.eventloop.ioloop.ZMQIOLoop object at 0x7faa3b60aa90>>, <Task finished name='Task-8001' coro=<AdaptiveCore.adapt() done, defined at /home/pleung/.conda/envs/phil/lib/python3.8/site-packages/distributed/deploy/adaptive_core.py:178> exception=UnboundLocalError(\"local variable 'status' referenced before assignment\")>)\n",
      "Traceback (most recent call last):\n",
      "  File \"/home/pleung/.conda/envs/phil/lib/python3.8/site-packages/distributed/comm/tcp.py\", line 196, in read\n",
      "    frames_nbytes = await stream.read_bytes(fmt_size)\n",
      "tornado.iostream.StreamClosedError: Stream is closed\n",
      "\n",
      "The above exception was the direct cause of the following exception:\n",
      "\n",
      "Traceback (most recent call last):\n",
      "  File \"/home/pleung/.conda/envs/phil/lib/python3.8/site-packages/distributed/core.py\", line 791, in send_recv_from_rpc\n",
      "    result = await send_recv(comm=comm, op=key, **kwargs)\n",
      "  File \"/home/pleung/.conda/envs/phil/lib/python3.8/site-packages/distributed/core.py\", line 645, in send_recv\n",
      "    response = await comm.read(deserializers=deserializers)\n",
      "  File \"/home/pleung/.conda/envs/phil/lib/python3.8/site-packages/distributed/comm/tcp.py\", line 206, in read\n",
      "    convert_stream_closed_error(self, e)\n",
      "  File \"/home/pleung/.conda/envs/phil/lib/python3.8/site-packages/distributed/comm/tcp.py\", line 128, in convert_stream_closed_error\n",
      "    raise CommClosedError(\"in %s: %s\" % (obj, exc)) from exc\n",
      "distributed.comm.core.CommClosedError: in <closed TCP>: Stream is closed\n",
      "\n",
      "During handling of the above exception, another exception occurred:\n",
      "\n",
      "Traceback (most recent call last):\n",
      "  File \"/home/pleung/.conda/envs/phil/lib/python3.8/site-packages/distributed/deploy/adaptive_core.py\", line 190, in adapt\n",
      "    target = await self.safe_target()\n",
      "  File \"/home/pleung/.conda/envs/phil/lib/python3.8/site-packages/distributed/deploy/adaptive_core.py\", line 128, in safe_target\n",
      "    n = await self.target()\n",
      "  File \"/home/pleung/.conda/envs/phil/lib/python3.8/site-packages/distributed/deploy/adaptive.py\", line 146, in target\n",
      "    return await self.scheduler.adaptive_target(\n",
      "  File \"/home/pleung/.conda/envs/phil/lib/python3.8/site-packages/distributed/core.py\", line 793, in send_recv_from_rpc\n",
      "    raise e.__class__(\n",
      "distributed.comm.core.CommClosedError: in <closed TCP>: Stream is closed: while trying to call remote method 'adaptive_target'\n",
      "\n",
      "During handling of the above exception, another exception occurred:\n",
      "\n",
      "Traceback (most recent call last):\n",
      "  File \"/home/pleung/.conda/envs/phil/lib/python3.8/site-packages/tornado/ioloop.py\", line 741, in _run_callback\n",
      "    ret = callback()\n",
      "  File \"/home/pleung/.conda/envs/phil/lib/python3.8/site-packages/tornado/ioloop.py\", line 765, in _discard_future_result\n",
      "    future.result()\n",
      "  File \"/home/pleung/.conda/envs/phil/lib/python3.8/site-packages/distributed/deploy/adaptive_core.py\", line 204, in adapt\n",
      "    if status != \"down\":\n",
      "UnboundLocalError: local variable 'status' referenced before assignment\n"
     ]
    },
    {
     "ename": "WorkerError",
     "evalue": "\nWorker thread killed due to an error or segmentation fault encountered in the user-provided PyRosetta protocol '\nWorker thread killed due to an error or segmentation fault encountered in the user-provided PyRosetta protocol 'del_chB'. '. ",
     "output_type": "error",
     "traceback": [
      "\u001b[0;31m---------------------------------------------------------------------------\u001b[0m",
      "\u001b[0;31mWorkerError\u001b[0m                               Traceback (most recent call last)",
      "\u001b[0;32m<ipython-input-4-6a0b727ab1ee>\u001b[0m in \u001b[0;36m<module>\u001b[0;34m\u001b[0m\n\u001b[1;32m     57\u001b[0m         \u001b[0;32mwith\u001b[0m \u001b[0mClient\u001b[0m\u001b[0;34m(\u001b[0m\u001b[0mcluster\u001b[0m\u001b[0;34m)\u001b[0m \u001b[0;32mas\u001b[0m \u001b[0mclient\u001b[0m\u001b[0;34m:\u001b[0m\u001b[0;34m\u001b[0m\u001b[0;34m\u001b[0m\u001b[0m\n\u001b[1;32m     58\u001b[0m             \u001b[0mprint\u001b[0m\u001b[0;34m(\u001b[0m\u001b[0mclient\u001b[0m\u001b[0;34m)\u001b[0m\u001b[0;34m\u001b[0m\u001b[0;34m\u001b[0m\u001b[0m\n\u001b[0;32m---> 59\u001b[0;31m             PyRosettaCluster(\n\u001b[0m\u001b[1;32m     60\u001b[0m                 \u001b[0mtasks\u001b[0m\u001b[0;34m=\u001b[0m\u001b[0mcreate_tasks\u001b[0m\u001b[0;34m(\u001b[0m\u001b[0mselected\u001b[0m\u001b[0;34m,\u001b[0m \u001b[0moptions\u001b[0m\u001b[0;34m)\u001b[0m\u001b[0;34m,\u001b[0m\u001b[0;34m\u001b[0m\u001b[0;34m\u001b[0m\u001b[0m\n\u001b[1;32m     61\u001b[0m                 \u001b[0mclient\u001b[0m\u001b[0;34m=\u001b[0m\u001b[0mclient\u001b[0m\u001b[0;34m,\u001b[0m\u001b[0;34m\u001b[0m\u001b[0;34m\u001b[0m\u001b[0m\n",
      "\u001b[0;32m~/.conda/envs/phil/lib/python3.8/site-packages/pyrosetta/distributed/cluster/core.py\u001b[0m in \u001b[0;36mdistribute\u001b[0;34m(self, protocols, *args)\u001b[0m\n\u001b[1;32m    605\u001b[0m         \u001b[0;32mfor\u001b[0m \u001b[0mi\u001b[0m\u001b[0;34m,\u001b[0m \u001b[0mfuture\u001b[0m \u001b[0;32min\u001b[0m \u001b[0menumerate\u001b[0m\u001b[0;34m(\u001b[0m\u001b[0mseq\u001b[0m\u001b[0;34m,\u001b[0m \u001b[0mstart\u001b[0m\u001b[0;34m=\u001b[0m\u001b[0;36m1\u001b[0m\u001b[0;34m)\u001b[0m\u001b[0;34m:\u001b[0m\u001b[0;34m\u001b[0m\u001b[0;34m\u001b[0m\u001b[0m\n\u001b[1;32m    606\u001b[0m             \u001b[0;32mtry\u001b[0m\u001b[0;34m:\u001b[0m\u001b[0;34m\u001b[0m\u001b[0;34m\u001b[0m\u001b[0m\n\u001b[0;32m--> 607\u001b[0;31m                 \u001b[0mresults\u001b[0m \u001b[0;34m=\u001b[0m \u001b[0mfuture\u001b[0m\u001b[0;34m.\u001b[0m\u001b[0mresult\u001b[0m\u001b[0;34m(\u001b[0m\u001b[0;34m)\u001b[0m\u001b[0;34m\u001b[0m\u001b[0;34m\u001b[0m\u001b[0m\n\u001b[0m\u001b[1;32m    608\u001b[0m             \u001b[0;32mexcept\u001b[0m \u001b[0mKilledWorker\u001b[0m \u001b[0;32mas\u001b[0m \u001b[0mex\u001b[0m\u001b[0;34m:\u001b[0m\u001b[0;34m\u001b[0m\u001b[0;34m\u001b[0m\u001b[0m\n\u001b[1;32m    609\u001b[0m                 \u001b[0mlogging\u001b[0m\u001b[0;34m.\u001b[0m\u001b[0merror\u001b[0m\u001b[0;34m(\u001b[0m\u001b[0mex\u001b[0m\u001b[0;34m)\u001b[0m\u001b[0;34m\u001b[0m\u001b[0;34m\u001b[0m\u001b[0m\n",
      "\u001b[0;32m~/.conda/envs/phil/lib/python3.8/site-packages/distributed/client.py\u001b[0m in \u001b[0;36mresult\u001b[0;34m(self, timeout)\u001b[0m\n\u001b[1;32m    218\u001b[0m         \u001b[0;32mif\u001b[0m \u001b[0mself\u001b[0m\u001b[0;34m.\u001b[0m\u001b[0mstatus\u001b[0m \u001b[0;34m==\u001b[0m \u001b[0;34m\"error\"\u001b[0m\u001b[0;34m:\u001b[0m\u001b[0;34m\u001b[0m\u001b[0;34m\u001b[0m\u001b[0m\n\u001b[1;32m    219\u001b[0m             \u001b[0mtyp\u001b[0m\u001b[0;34m,\u001b[0m \u001b[0mexc\u001b[0m\u001b[0;34m,\u001b[0m \u001b[0mtb\u001b[0m \u001b[0;34m=\u001b[0m \u001b[0mresult\u001b[0m\u001b[0;34m\u001b[0m\u001b[0;34m\u001b[0m\u001b[0m\n\u001b[0;32m--> 220\u001b[0;31m             \u001b[0;32mraise\u001b[0m \u001b[0mexc\u001b[0m\u001b[0;34m.\u001b[0m\u001b[0mwith_traceback\u001b[0m\u001b[0;34m(\u001b[0m\u001b[0mtb\u001b[0m\u001b[0;34m)\u001b[0m\u001b[0;34m\u001b[0m\u001b[0;34m\u001b[0m\u001b[0m\n\u001b[0m\u001b[1;32m    221\u001b[0m         \u001b[0;32melif\u001b[0m \u001b[0mself\u001b[0m\u001b[0;34m.\u001b[0m\u001b[0mstatus\u001b[0m \u001b[0;34m==\u001b[0m \u001b[0;34m\"cancelled\"\u001b[0m\u001b[0;34m:\u001b[0m\u001b[0;34m\u001b[0m\u001b[0;34m\u001b[0m\u001b[0m\n\u001b[1;32m    222\u001b[0m             \u001b[0;32mraise\u001b[0m \u001b[0mresult\u001b[0m\u001b[0;34m\u001b[0m\u001b[0;34m\u001b[0m\u001b[0m\n",
      "\u001b[0;32m~/.conda/envs/phil/lib/python3.8/site-packages/pyrosetta/distributed/cluster/multiprocessing.py\u001b[0m in \u001b[0;36muser_spawn_thread\u001b[0;34m()\u001b[0m\n\u001b[1;32m    161\u001b[0m     )\n\u001b[1;32m    162\u001b[0m     \u001b[0mp\u001b[0m\u001b[0;34m.\u001b[0m\u001b[0mstart\u001b[0m\u001b[0;34m(\u001b[0m\u001b[0;34m)\u001b[0m\u001b[0;34m\u001b[0m\u001b[0;34m\u001b[0m\u001b[0m\n\u001b[0;32m--> 163\u001b[0;31m     results, kwargs = get_target_results_kwargs(\n\u001b[0m\u001b[1;32m    164\u001b[0m         \u001b[0mq\u001b[0m\u001b[0;34m,\u001b[0m \u001b[0mp\u001b[0m\u001b[0;34m,\u001b[0m \u001b[0mkwargs\u001b[0m\u001b[0;34m,\u001b[0m \u001b[0mprotocol\u001b[0m\u001b[0;34m.\u001b[0m\u001b[0m__name__\u001b[0m\u001b[0;34m,\u001b[0m \u001b[0mtimeout\u001b[0m\u001b[0;34m,\u001b[0m \u001b[0mignore_errors\u001b[0m\u001b[0;34m\u001b[0m\u001b[0;34m\u001b[0m\u001b[0m\n\u001b[1;32m    165\u001b[0m     )\n",
      "\u001b[0;32m~/.conda/envs/phil/lib/python3.8/site-packages/pyrosetta/distributed/cluster/exceptions.py\u001b[0m in \u001b[0;36mwrapper\u001b[0;34m()\u001b[0m\n\u001b[1;32m    151\u001b[0m                         \u001b[0;32mbreak\u001b[0m\u001b[0;34m\u001b[0m\u001b[0;34m\u001b[0m\u001b[0m\n\u001b[1;32m    152\u001b[0m                     \u001b[0;32melse\u001b[0m\u001b[0;34m:\u001b[0m\u001b[0;34m\u001b[0m\u001b[0;34m\u001b[0m\u001b[0m\n\u001b[0;32m--> 153\u001b[0;31m                         \u001b[0;32mraise\u001b[0m \u001b[0mWorkerError\u001b[0m\u001b[0;34m(\u001b[0m\u001b[0mprotocol_name\u001b[0m\u001b[0;34m)\u001b[0m\u001b[0;34m\u001b[0m\u001b[0;34m\u001b[0m\u001b[0m\n\u001b[0m\u001b[1;32m    154\u001b[0m \u001b[0;34m\u001b[0m\u001b[0m\n\u001b[1;32m    155\u001b[0m         \u001b[0;32mreturn\u001b[0m \u001b[0m_results\u001b[0m\u001b[0;34m,\u001b[0m \u001b[0m_kwargs\u001b[0m\u001b[0;34m\u001b[0m\u001b[0;34m\u001b[0m\u001b[0m\n",
      "\u001b[0;31mWorkerError\u001b[0m: \nWorker thread killed due to an error or segmentation fault encountered in the user-provided PyRosetta protocol '\nWorker thread killed due to an error or segmentation fault encountered in the user-provided PyRosetta protocol 'del_chB'. '. "
     ]
    }
   ],
   "source": [
    "from dask.distributed import Client\n",
    "from dask_jobqueue import SLURMCluster\n",
    "import logging\n",
    "import pwd\n",
    "from pyrosetta.distributed.cluster.core import PyRosettaCluster\n",
    "\n",
    "\n",
    "print(\"run the following from your local terminal:\")\n",
    "print(\n",
    "    f\"ssh -L 8000:localhost:8787 {pwd.getpwuid(os.getuid()).pw_name}@{socket.gethostname()}\"\n",
    ")\n",
    "\n",
    "\n",
    "def create_tasks(selected, options):\n",
    "    with open(selected, \"r\") as f:\n",
    "        for file in f:\n",
    "            tasks = {\"options\": \"\"}\n",
    "            tasks[\"extra_options\"] = options\n",
    "            tasks[\"-s\"] = file.rstrip()\n",
    "            yield tasks\n",
    "\n",
    "\n",
    "logging.basicConfig(level=logging.INFO)\n",
    "selected = os.path.join(os.getcwd(), \"03_enumerate_loops/closed.list\")\n",
    "\n",
    "options = {\n",
    "    \"-out:level\": \"300\",\n",
    "    \"-holes:dalphaball\": \"/home/bcov/ppi/tutorial_build/main/source/external/DAlpahBall/DAlphaBall.gcc\",\n",
    "    \"-indexed_structure_store:fragment_store\": \"/net/databases/VALL_clustered/connect_chains/ss_grouped_vall_helix_shortLoop.h5\",\n",
    "}\n",
    "\n",
    "output_path = os.path.join(os.getcwd(), \"04_del_chB\")\n",
    "\n",
    "if __name__ == \"__main__\":\n",
    "    # configure SLURM cluster as a context manager\n",
    "    with SLURMCluster(\n",
    "        cores=1,\n",
    "        processes=1,\n",
    "        job_cpu=1,\n",
    "        memory=\"16GB\",\n",
    "        queue=\"long\",\n",
    "        walltime=\"23:30:00\",\n",
    "        death_timeout=120,\n",
    "        local_directory=\"$TMPDIR/dask\",\n",
    "        log_directory=\"/mnt/home/pleung/logs/slurm_logs\",\n",
    "        extra=[\"--lifetime\", \"23h\", \"--lifetime-stagger\", \"4m\"],\n",
    "    ) as cluster:\n",
    "        print(cluster.job_script())\n",
    "        # scale between 1-510 workers,\n",
    "        cluster.adapt(\n",
    "            minimum=1,\n",
    "            maximum=50,\n",
    "            wait_count=360,  # Number of consecutive times that a worker should be suggested for removal it is removed\n",
    "            interval=\"5s\",  # Time between checks\n",
    "        )\n",
    "        # setup a client to interact with the cluster as a context manager\n",
    "        with Client(cluster) as client:\n",
    "            print(client)\n",
    "            PyRosettaCluster(\n",
    "                tasks=create_tasks(selected, options),\n",
    "                client=client,\n",
    "                scratch_dir=output_path,\n",
    "                output_path=output_path,\n",
    "            ).distribute(protocols=[del_chB])"
   ]
  },
  {
   "cell_type": "code",
   "execution_count": 5,
   "metadata": {},
   "outputs": [
    {
     "data": {
      "text/plain": [
       "{'options': '',\n",
       " 'extra_options': {'-out:level': '300',\n",
       "  '-holes:dalphaball': '/home/bcov/ppi/tutorial_build/main/source/external/DAlpahBall/DAlphaBall.gcc',\n",
       "  '-indexed_structure_store:fragment_store': '/net/databases/VALL_clustered/connect_chains/ss_grouped_vall_helix_shortLoop.h5'},\n",
       " '-s': '/mnt/home/pleung/projects/bistable_bundle/r4/helix_binders/03_enumerate_loops/decoys/0000/2021.06.12.18.59.06.920858_e307f5e320bf41ffbc3924658904b3d7.pdb.bz2'}"
      ]
     },
     "execution_count": 5,
     "metadata": {},
     "output_type": "execute_result"
    }
   ],
   "source": [
    "def create_tasks(selected, options):\n",
    "    with open(selected, \"r\") as f:\n",
    "        for file in f:\n",
    "            tasks = {\"options\": \"\"}\n",
    "            tasks[\"extra_options\"] = options\n",
    "            tasks[\"-s\"] = file.rstrip()\n",
    "            yield tasks\n",
    "\n",
    "\n",
    "selected = os.path.join(os.getcwd(), \"03_enumerate_loops/closed.list\")\n",
    "\n",
    "options = {\n",
    "    \"-out:level\": \"300\",\n",
    "    \"-holes:dalphaball\": \"/home/bcov/ppi/tutorial_build/main/source/external/DAlpahBall/DAlphaBall.gcc\",\n",
    "    \"-indexed_structure_store:fragment_store\": \"/net/databases/VALL_clustered/connect_chains/ss_grouped_vall_helix_shortLoop.h5\",\n",
    "}\n",
    "t = next(create_tasks(selected, options))\n",
    "t"
   ]
  },
  {
   "cell_type": "code",
   "execution_count": null,
   "metadata": {},
   "outputs": [],
   "source": []
  }
 ],
 "metadata": {
  "kernelspec": {
   "display_name": "phil (3.8.2)",
   "language": "python",
   "name": "phil"
  },
  "language_info": {
   "codemirror_mode": {
    "name": "ipython",
    "version": 3
   },
   "file_extension": ".py",
   "mimetype": "text/x-python",
   "name": "python",
   "nbconvert_exporter": "python",
   "pygments_lexer": "ipython3",
   "version": "3.8.8"
  }
 },
 "nbformat": 4,
 "nbformat_minor": 4
}
